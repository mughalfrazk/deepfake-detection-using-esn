{
 "cells": [
  {
   "cell_type": "code",
   "execution_count": 3,
   "metadata": {},
   "outputs": [],
   "source": [
    "import cv2 as cv\n",
    "import numpy as np"
   ]
  },
  {
   "cell_type": "code",
   "execution_count": 4,
   "metadata": {},
   "outputs": [],
   "source": [
    "data = np.load(\"hiddenRepr-ESSEX3IN1.npz\")['hlrTrain']\n",
    "vidz, frames = data.shape"
   ]
  },
  {
   "cell_type": "code",
   "execution_count": 8,
   "metadata": {},
   "outputs": [
    {
     "data": {
      "text/plain": [
       "array([[-0.77484393,  0.33441654, -0.46640709, ..., -0.054143  ,\n",
       "         0.25733811, -0.66201085],\n",
       "       [-0.69736433,  0.45657712,  0.36279374, ..., -0.64471596,\n",
       "        -0.44058132, -0.39259765],\n",
       "       [-0.53317726, -0.41203517,  0.41610053, ...,  0.26942915,\n",
       "        -0.48306417,  0.39309511],\n",
       "       ...,\n",
       "       [ 0.41274923, -0.28989327,  0.60867274, ..., -0.33865911,\n",
       "         0.65711898, -0.90846008],\n",
       "       [ 0.42002124, -0.38123196,  0.61750519, ..., -0.61920923,\n",
       "         0.35379279, -0.29037005],\n",
       "       [ 0.49127135, -0.39799711,  0.58718646, ..., -0.17016651,\n",
       "         0.52293503, -0.45113564]])"
      ]
     },
     "execution_count": 8,
     "metadata": {},
     "output_type": "execute_result"
    }
   ],
   "source": [
    "data"
   ]
  },
  {
   "cell_type": "code",
   "execution_count": null,
   "metadata": {},
   "outputs": [],
   "source": []
  }
 ],
 "metadata": {
  "kernelspec": {
   "display_name": ".venv",
   "language": "python",
   "name": "python3"
  },
  "language_info": {
   "codemirror_mode": {
    "name": "ipython",
    "version": 3
   },
   "file_extension": ".py",
   "mimetype": "text/x-python",
   "name": "python",
   "nbconvert_exporter": "python",
   "pygments_lexer": "ipython3",
   "version": "3.12.7"
  }
 },
 "nbformat": 4,
 "nbformat_minor": 2
}

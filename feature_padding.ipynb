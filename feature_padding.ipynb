{
 "cells": [
  {
   "cell_type": "code",
   "execution_count": 1,
   "metadata": {
    "colab": {
     "base_uri": "https://localhost:8080/"
    },
    "executionInfo": {
     "elapsed": 17732,
     "status": "ok",
     "timestamp": 1735424418556,
     "user": {
      "displayName": "Faraz Khalil",
      "userId": "15571848968372978323"
     },
     "user_tz": 0
    },
    "id": "AYa3Akig3S3B",
    "outputId": "3901c65e-2752-42c1-933b-d96d07683562"
   },
   "outputs": [
    {
     "name": "stdout",
     "output_type": "stream",
     "text": [
      "Mounted at /content/drive\n"
     ]
    }
   ],
   "source": [
    "from google.colab import drive\n",
    "drive.mount('/content/drive')"
   ]
  },
  {
   "cell_type": "code",
   "execution_count": 2,
   "metadata": {
    "executionInfo": {
     "elapsed": 3326,
     "status": "ok",
     "timestamp": 1735424424054,
     "user": {
      "displayName": "Faraz Khalil",
      "userId": "15571848968372978323"
     },
     "user_tz": 0
    },
    "id": "c-achIRy3ZpS"
   },
   "outputs": [],
   "source": [
    "import numpy as np\n",
    "import cv2 as cv\n",
    "import matplotlib.pyplot as plt\n",
    "import glob\n",
    "import seaborn as sns\n",
    "import os"
   ]
  },
  {
   "cell_type": "code",
   "execution_count": 3,
   "metadata": {
    "executionInfo": {
     "elapsed": 467,
     "status": "ok",
     "timestamp": 1735424425911,
     "user": {
      "displayName": "Faraz Khalil",
      "userId": "15571848968372978323"
     },
     "user_tz": 0
    },
    "id": "BidIw4dY3nET"
   },
   "outputs": [],
   "source": [
    "def pad_to_max_length(array, max_length, pad_value = 0):\n",
    "    if array.ndim == 2:\n",
    "        padded = np.pad(array, ((0, max_length - len(array)), (0, 0)), mode=\"constant\", constant_values=pad_value)\n",
    "    else:\n",
    "        padded = np.pad(array, (0, max_length - len(array)), mode='constant', constant_values=pad_value)\n",
    "\n",
    "    return padded"
   ]
  },
  {
   "cell_type": "code",
   "execution_count": 4,
   "metadata": {
    "colab": {
     "base_uri": "https://localhost:8080/"
    },
    "executionInfo": {
     "elapsed": 12027,
     "status": "ok",
     "timestamp": 1735424439846,
     "user": {
      "displayName": "Faraz Khalil",
      "userId": "15571848968372978323"
     },
     "user_tz": 0
    },
    "id": "owPA0ooy3wHt",
    "outputId": "60457cbe-0f4b-4d27-a6dc-eec674f8b4cf"
   },
   "outputs": [
    {
     "name": "stdout",
     "output_type": "stream",
     "text": [
      "fake_paths:  3173\n",
      "orig_paths:  1157\n"
     ]
    }
   ],
   "source": [
    "fake_dir = \"/content/drive/MyDrive/Dissertation/deepfake-detection-using-esn/out/0\"\n",
    "orig_dir = \"/content/drive/MyDrive/Dissertation/deepfake-detection-using-esn/out/1\"\n",
    "\n",
    "fake_paths = glob.glob(fake_dir + \"/*.npy\")\n",
    "orig_paths = glob.glob(orig_dir + \"/*.npy\")\n",
    "\n",
    "all_features = []\n",
    "all_targets = []\n",
    "\n",
    "loaded_fakes = []\n",
    "loaded_origs = []\n",
    "\n",
    "print(\"fake_paths: \", len(fake_paths))\n",
    "print(\"orig_paths: \", len(orig_paths))"
   ]
  },
  {
   "cell_type": "code",
   "execution_count": 7,
   "metadata": {
    "colab": {
     "base_uri": "https://localhost:8080/"
    },
    "executionInfo": {
     "elapsed": 43558,
     "status": "ok",
     "timestamp": 1735424850065,
     "user": {
      "displayName": "Faraz Khalil",
      "userId": "15571848968372978323"
     },
     "user_tz": 0
    },
    "id": "yn5CZcj53y0j",
    "outputId": "01f87626-e4f8-42d1-f401-b7a1d62233ed"
   },
   "outputs": [
    {
     "name": "stdout",
     "output_type": "stream",
     "text": [
      "Max frames updated:  857\n",
      "Max frames updated:  878\n",
      "Max frames updated:  990\n",
      "Max frames updated:  1315\n",
      "Max frames updated:  1558\n",
      "Max frames updated:  1814\n",
      "loaded_fakes:  9306\n",
      "loaded_origs:  3426\n",
      "X_dataset:  (22979, 1814, 3)\n",
      "Y_dataset:  (22979, 1814)\n"
     ]
    }
   ],
   "source": [
    "  max_frames = 0\n",
    "  for idx, path in enumerate(fake_paths):\n",
    "      target_label = 0\n",
    "      loaded = np.load(path)\n",
    "      if loaded.ndim == 2:\n",
    "          loaded_fakes.append(loaded)\n",
    "          frames, features = loaded.shape\n",
    "\n",
    "          # print(f\"{idx} npy frames: \", frames, f\"({loaded.shape})\")\n",
    "          if frames > max_frames:\n",
    "              max_frames = frames\n",
    "              print(\"Max frames updated: \", max_frames)\n",
    "\n",
    "  for idx, path in enumerate(orig_paths):\n",
    "      target_label = 1\n",
    "      loaded = np.load(path)\n",
    "      if loaded.ndim == 2:\n",
    "          loaded_origs.append(loaded)\n",
    "          frames, features = loaded.shape\n",
    "\n",
    "          # print(f\"{idx} npy frames: \", frames, f\"({loaded.shape})\")\n",
    "          if frames > max_frames:\n",
    "              max_frames = frames\n",
    "              print(\"Max frames updated: \", max_frames)\n",
    "\n",
    "  print(\"loaded_fakes: \", len(loaded_fakes))\n",
    "  fake_target = np.array([0] * max_frames)\n",
    "  for np_arr in loaded_fakes:\n",
    "      frames, features = np_arr.shape\n",
    "\n",
    "      if (frames > 200):\n",
    "        padded_arr = pad_to_max_length(np_arr, max_length=max_frames)\n",
    "        all_features.append(padded_arr)\n",
    "        all_targets.append(fake_target)\n",
    "\n",
    "  print(\"loaded_origs: \", len(loaded_origs))\n",
    "  orig_target = np.array([1] * max_frames)\n",
    "  for np_arr in loaded_origs:\n",
    "      frames, features = np_arr.shape\n",
    "\n",
    "      if (frames > 200):\n",
    "        padded_arr = pad_to_max_length(np_arr, max_length=max_frames)\n",
    "        all_features.append(padded_arr)\n",
    "        all_targets.append(orig_target)\n",
    "\n",
    "  # Convert lists to 3D and 2D NumPy arrays\n",
    "  X_dataset = np.stack(all_features)  # Shape: (videos, frames, features)\n",
    "  Y_dataset = np.stack(all_targets)   # Shape: (videos, frames)\n",
    "\n",
    "  print(\"X_dataset: \", X_dataset.shape)\n",
    "  print(\"Y_dataset: \", Y_dataset.shape)\n",
    "\n",
    "\n",
    "#   np.savez_compressed(\"/content/drive/MyDrive/Dissertation/deepfake-detection-using-esn/out/ff_dataset_all\", X_dataset=X_dataset, Y_dataset=Y_dataset)"
   ]
  },
  {
   "cell_type": "code",
   "execution_count": null,
   "metadata": {
    "id": "ar6tX9Mu643M"
   },
   "outputs": [],
   "source": []
  }
 ],
 "metadata": {
  "colab": {
   "authorship_tag": "ABX9TyMGalB/TTX/e9raVoRaHzse",
   "provenance": []
  },
  "kernelspec": {
   "display_name": ".venv",
   "language": "python",
   "name": "python3"
  },
  "language_info": {
   "name": "python",
   "version": "3.12.7"
  }
 },
 "nbformat": 4,
 "nbformat_minor": 0
}
